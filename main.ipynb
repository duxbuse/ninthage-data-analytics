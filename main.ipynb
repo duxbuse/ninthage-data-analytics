{
 "cells": [
  {
   "cell_type": "markdown",
   "metadata": {},
   "source": [
    "# Docx -> json"
   ]
  },
  {
   "cell_type": "markdown",
   "metadata": {},
   "source": [
    "## Pip installs"
   ]
  },
  {
   "cell_type": "code",
   "execution_count": 1,
   "metadata": {},
   "outputs": [
    {
     "name": "stdout",
     "output_type": "stream",
     "text": [
      "Requirement already satisfied: python-docx in c:\\users\\sean\\appdata\\local\\packages\\pythonsoftwarefoundation.python.3.9_qbz5n2kfra8p0\\localcache\\local-packages\\python39\\site-packages (from -r requirements.txt (line 1)) (0.8.11)\n",
      "Requirement already satisfied: jsons in c:\\users\\sean\\appdata\\local\\packages\\pythonsoftwarefoundation.python.3.9_qbz5n2kfra8p0\\localcache\\local-packages\\python39\\site-packages (from -r requirements.txt (line 2)) (1.6.0)\n",
      "Requirement already satisfied: lxml>=2.3.2 in c:\\users\\sean\\appdata\\local\\packages\\pythonsoftwarefoundation.python.3.9_qbz5n2kfra8p0\\localcache\\local-packages\\python39\\site-packages (from python-docx->-r requirements.txt (line 1)) (4.6.4)\n",
      "Requirement already satisfied: typish>=1.9.2 in c:\\users\\sean\\appdata\\local\\packages\\pythonsoftwarefoundation.python.3.9_qbz5n2kfra8p0\\localcache\\local-packages\\python39\\site-packages (from jsons->-r requirements.txt (line 2)) (1.9.3)\n"
     ]
    }
   ],
   "source": [
    "import sys\n",
    "!{sys.executable} -m pip install -r requirements.txt"
   ]
  },
  {
   "cell_type": "markdown",
   "metadata": {},
   "source": [
    "## Imports"
   ]
  },
  {
   "cell_type": "code",
   "execution_count": 2,
   "metadata": {},
   "outputs": [],
   "source": [
    "from docx import Document\n",
    "import re\n",
    "from dataclasses import dataclass\n",
    "import jsons"
   ]
  },
  {
   "cell_type": "markdown",
   "metadata": {},
   "source": [
    "## Main"
   ]
  },
  {
   "cell_type": "markdown",
   "metadata": {},
   "source": [
    "### Load file and convert to list of lines"
   ]
  },
  {
   "cell_type": "code",
   "execution_count": 3,
   "metadata": {},
   "outputs": [],
   "source": [
    "filePath = 'data\\Round 2'\n",
    "\n",
    "doc = Document(f\"{filePath}.docx\")\n",
    "\n",
    "\n",
    "lines = []             #ALL the text in the archive, separated by lines\n",
    "\n",
    "par = doc.paragraphs\n",
    "for i in range(len(par)):\n",
    "    text = par[i].text\n",
    "    if len(text) > 1:\n",
    "        lines.append(text)\n",
    "\n"
   ]
  },
  {
   "cell_type": "markdown",
   "metadata": {},
   "source": [
    "### Read through each line and store data as required"
   ]
  },
  {
   "cell_type": "code",
   "execution_count": 4,
   "metadata": {},
   "outputs": [],
   "source": [
    "armyList = [\"Beast Herds\", \"Dread Elves\", \"Dwarven Holds\", \"Daemon Legions\", \"Empire of Sonnstahl\", \"Highborn Elves\", \"Infernal Dwarves\",\"Kingdom of Equitaine\", \"Ogre Khans\", \"Orcs and Goblins\", \"Saurian Ancients\", \"Sylvan Elves\", \"Undying Dynasties\", \"Vampire Covenant\", \"Vermin Swarm\", \"Warriors of the Dark Gods\"]\n",
    "\n",
    "@dataclass\n",
    "class UnitEntry():\n",
    "    \"\"\"Keeping track of a single unit entry\"\"\"\n",
    "    points: int\n",
    "    quantity: int\n",
    "    name: str\n",
    "    upgrades: list\n",
    "\n",
    "parsingList = False\n",
    "previousLine = ''\n",
    "listDict = {}\n",
    "for line in lines:\n",
    "    \n",
    "    currentArmy = [army for army in armyList if army in line]\n",
    "    if currentArmy:\n",
    "        parsingList = previousLine\n",
    "        listDict[parsingList] = [] \n",
    "        continue\n",
    "    if parsingList:\n",
    "        splitLine = [x.strip(' .') for x in line.split(', ')]\n",
    "\n",
    "        splitOutPointsRegex = '(\\d{4}|\\d{3}|\\d{2})(?: - | )(.*)'\n",
    "        pointsSearch = re.search(splitOutPointsRegex, splitLine[0])\n",
    "        if pointsSearch:\n",
    "            #break group 2 (\"15 knights\" | \"41x spearmen\" | chariot) into unit name and quantity\n",
    "            splitOutQuantityRegex = '(\\d{2}|\\d{1}|)(?:x | |)(.*)'\n",
    "            quantitySearch = re.search(splitOutQuantityRegex, pointsSearch.group(2))\n",
    "            if quantitySearch:\n",
    "                quantity = quantitySearch.group(1) if quantitySearch.group(1) else 1 # if there was no quantity number then the regex match for group 1 is '' so we need to code that as 1\n",
    "                newEntry = UnitEntry(points=pointsSearch.group(1), quantity=quantity, name=quantitySearch.group(2), upgrades=splitLine[1:])\n",
    "                listDict[parsingList].append(newEntry)\n",
    "                continue\n",
    "\n",
    "        if 4480 < int(line) <= 4500:\n",
    "             listDict[parsingList].append(int(line))\n",
    "             parsingList = False\n",
    "    previousLine = line"
   ]
  },
  {
   "cell_type": "markdown",
   "metadata": {},
   "source": [
    "## Output"
   ]
  },
  {
   "cell_type": "code",
   "execution_count": 6,
   "metadata": {},
   "outputs": [
    {
     "data": {
      "text/plain": [
       "<function TextIOWrapper.close()>"
      ]
     },
     "execution_count": 6,
     "metadata": {},
     "output_type": "execute_result"
    }
   ],
   "source": [
    "jsonString = jsons.dumps(listDict)\n",
    "jsonFile = open(f\"{filePath}.json\", \"w\")\n",
    "jsonFile.write(jsonString)\n",
    "jsonFile.close"
   ]
  }
 ],
 "metadata": {
  "interpreter": {
   "hash": "55c0eb628325e190346a8d73c6dce2cda477956cb8013e5b05a2977c4b471878"
  },
  "kernelspec": {
   "display_name": "Python 3.9.2 64-bit (windows store)",
   "language": "python",
   "name": "python3"
  },
  "language_info": {
   "codemirror_mode": {
    "name": "ipython",
    "version": 3
   },
   "file_extension": ".py",
   "mimetype": "text/x-python",
   "name": "python",
   "nbconvert_exporter": "python",
   "pygments_lexer": "ipython3",
   "version": "3.9.2"
  },
  "orig_nbformat": 4
 },
 "nbformat": 4,
 "nbformat_minor": 2
}
